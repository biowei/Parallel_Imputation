{
 "cells": [
  {
   "cell_type": "markdown",
   "metadata": {},
   "source": [
    "### chr done: 3,5,7,10,13,14,18,20,21,22"
   ]
  },
  {
   "cell_type": "markdown",
   "metadata": {},
   "source": [
    "### chrs that have repeat SNP positions need to impute again"
   ]
  },
  {
   "cell_type": "code",
   "execution_count": 1,
   "metadata": {
    "collapsed": true
   },
   "outputs": [],
   "source": [
    "pos = read.table('../temp/PSA.autosome.bim')"
   ]
  },
  {
   "cell_type": "code",
   "execution_count": 2,
   "metadata": {},
   "outputs": [],
   "source": [
    "bim = pos[c('V1','V4')]"
   ]
  },
  {
   "cell_type": "code",
   "execution_count": 3,
   "metadata": {
    "collapsed": true
   },
   "outputs": [],
   "source": [
    "dup = pos[duplicated(bim),]"
   ]
  },
  {
   "cell_type": "code",
   "execution_count": 5,
   "metadata": {},
   "outputs": [
    {
     "data": {
      "text/html": [
       "<table>\n",
       "<thead><tr><th></th><th scope=col>V1</th><th scope=col>V2</th><th scope=col>V3</th><th scope=col>V4</th><th scope=col>V5</th><th scope=col>V6</th></tr></thead>\n",
       "<tbody>\n",
       "\t<tr><th scope=row>56</th><td> 1        </td><td>rs1921    </td><td>0         </td><td>   949608 </td><td>A         </td><td>G         </td></tr>\n",
       "\t<tr><th scope=row>3678</th><td> 1        </td><td>VG01S2022 </td><td>0         </td><td> 11854476 </td><td>G         </td><td>T         </td></tr>\n",
       "\t<tr><th scope=row>53127</th><td> 1        </td><td>rs3817870 </td><td>0         </td><td>209849002 </td><td>T         </td><td>C         </td></tr>\n",
       "\t<tr><th scope=row>57623</th><td> 1        </td><td>rs1051741 </td><td>0         </td><td>226032229 </td><td>T         </td><td>C         </td></tr>\n",
       "\t<tr><th scope=row>83410</th><td> 2        </td><td>rs2576709 </td><td>0         </td><td> 55476591 </td><td>A         </td><td>G         </td></tr>\n",
       "\t<tr><th scope=row>91565</th><td> 2        </td><td>rs7148    </td><td>0         </td><td> 85133216 </td><td>A         </td><td>G         </td></tr>\n",
       "\t<tr><th scope=row>121277</th><td> 2        </td><td>rs33946522</td><td>0         </td><td>219527712 </td><td>T         </td><td>C         </td></tr>\n",
       "\t<tr><th scope=row>199567</th><td> 4        </td><td>rs3926327 </td><td>0         </td><td> 74284686 </td><td>T         </td><td>C         </td></tr>\n",
       "\t<tr><th scope=row>303866</th><td> 6        </td><td>rs780556  </td><td>0         </td><td> 49802697 </td><td>T         </td><td>C         </td></tr>\n",
       "\t<tr><th scope=row>394718</th><td> 8        </td><td>rs2843740 </td><td>0         </td><td> 37985897 </td><td>A         </td><td>G         </td></tr>\n",
       "\t<tr><th scope=row>520400</th><td>11        </td><td>rs2070232 </td><td>0         </td><td> 63970625 </td><td>A         </td><td>G         </td></tr>\n",
       "\t<tr><th scope=row>520881</th><td>11        </td><td>rs1786171 </td><td>0         </td><td> 65769809 </td><td>G         </td><td>C         </td></tr>\n",
       "\t<tr><th scope=row>555494</th><td>12        </td><td>rs3747560 </td><td>0         </td><td> 42719890 </td><td>A         </td><td>G         </td></tr>\n",
       "\t<tr><th scope=row>649745</th><td>15        </td><td>VG15S12103</td><td>0         </td><td> 75012987 </td><td>T         </td><td>G         </td></tr>\n",
       "\t<tr><th scope=row>671976</th><td>16        </td><td>rs12315   </td><td>0         </td><td> 56700722 </td><td>T         </td><td>G         </td></tr>\n",
       "\t<tr><th scope=row>691966</th><td>17        </td><td>rs2074101 </td><td>0         </td><td> 30228656 </td><td>A         </td><td>G         </td></tr>\n",
       "\t<tr><th scope=row>705874</th><td>17        </td><td>rs7226091 </td><td>0         </td><td> 79637367 </td><td>G         </td><td>C         </td></tr>\n",
       "\t<tr><th scope=row>730278</th><td>19        </td><td>rs1443    </td><td>0         </td><td>  3579000 </td><td>T         </td><td>C         </td></tr>\n",
       "\t<tr><th scope=row>731724</th><td>19        </td><td>rs12563   </td><td>0         </td><td>  7929690 </td><td>T         </td><td>C         </td></tr>\n",
       "</tbody>\n",
       "</table>\n"
      ],
      "text/latex": [
       "\\begin{tabular}{r|llllll}\n",
       "  & V1 & V2 & V3 & V4 & V5 & V6\\\\\n",
       "\\hline\n",
       "\t56 &  1         & rs1921     & 0          &    949608  & A          & G         \\\\\n",
       "\t3678 &  1         & VG01S2022  & 0          &  11854476  & G          & T         \\\\\n",
       "\t53127 &  1         & rs3817870  & 0          & 209849002  & T          & C         \\\\\n",
       "\t57623 &  1         & rs1051741  & 0          & 226032229  & T          & C         \\\\\n",
       "\t83410 &  2         & rs2576709  & 0          &  55476591  & A          & G         \\\\\n",
       "\t91565 &  2         & rs7148     & 0          &  85133216  & A          & G         \\\\\n",
       "\t121277 &  2         & rs33946522 & 0          & 219527712  & T          & C         \\\\\n",
       "\t199567 &  4         & rs3926327  & 0          &  74284686  & T          & C         \\\\\n",
       "\t303866 &  6         & rs780556   & 0          &  49802697  & T          & C         \\\\\n",
       "\t394718 &  8         & rs2843740  & 0          &  37985897  & A          & G         \\\\\n",
       "\t520400 & 11         & rs2070232  & 0          &  63970625  & A          & G         \\\\\n",
       "\t520881 & 11         & rs1786171  & 0          &  65769809  & G          & C         \\\\\n",
       "\t555494 & 12         & rs3747560  & 0          &  42719890  & A          & G         \\\\\n",
       "\t649745 & 15         & VG15S12103 & 0          &  75012987  & T          & G         \\\\\n",
       "\t671976 & 16         & rs12315    & 0          &  56700722  & T          & G         \\\\\n",
       "\t691966 & 17         & rs2074101  & 0          &  30228656  & A          & G         \\\\\n",
       "\t705874 & 17         & rs7226091  & 0          &  79637367  & G          & C         \\\\\n",
       "\t730278 & 19         & rs1443     & 0          &   3579000  & T          & C         \\\\\n",
       "\t731724 & 19         & rs12563    & 0          &   7929690  & T          & C         \\\\\n",
       "\\end{tabular}\n"
      ],
      "text/markdown": [
       "\n",
       "| <!--/--> | V1 | V2 | V3 | V4 | V5 | V6 | \n",
       "|---|---|---|---|---|---|---|---|---|---|---|---|---|---|---|---|---|---|---|\n",
       "| 56 |  1         | rs1921     | 0          |    949608  | A          | G          | \n",
       "| 3678 |  1         | VG01S2022  | 0          |  11854476  | G          | T          | \n",
       "| 53127 |  1         | rs3817870  | 0          | 209849002  | T          | C          | \n",
       "| 57623 |  1         | rs1051741  | 0          | 226032229  | T          | C          | \n",
       "| 83410 |  2         | rs2576709  | 0          |  55476591  | A          | G          | \n",
       "| 91565 |  2         | rs7148     | 0          |  85133216  | A          | G          | \n",
       "| 121277 |  2         | rs33946522 | 0          | 219527712  | T          | C          | \n",
       "| 199567 |  4         | rs3926327  | 0          |  74284686  | T          | C          | \n",
       "| 303866 |  6         | rs780556   | 0          |  49802697  | T          | C          | \n",
       "| 394718 |  8         | rs2843740  | 0          |  37985897  | A          | G          | \n",
       "| 520400 | 11         | rs2070232  | 0          |  63970625  | A          | G          | \n",
       "| 520881 | 11         | rs1786171  | 0          |  65769809  | G          | C          | \n",
       "| 555494 | 12         | rs3747560  | 0          |  42719890  | A          | G          | \n",
       "| 649745 | 15         | VG15S12103 | 0          |  75012987  | T          | G          | \n",
       "| 671976 | 16         | rs12315    | 0          |  56700722  | T          | G          | \n",
       "| 691966 | 17         | rs2074101  | 0          |  30228656  | A          | G          | \n",
       "| 705874 | 17         | rs7226091  | 0          |  79637367  | G          | C          | \n",
       "| 730278 | 19         | rs1443     | 0          |   3579000  | T          | C          | \n",
       "| 731724 | 19         | rs12563    | 0          |   7929690  | T          | C          | \n",
       "\n",
       "\n"
      ],
      "text/plain": [
       "       V1 V2         V3 V4        V5 V6\n",
       "56      1 rs1921     0     949608 A  G \n",
       "3678    1 VG01S2022  0   11854476 G  T \n",
       "53127   1 rs3817870  0  209849002 T  C \n",
       "57623   1 rs1051741  0  226032229 T  C \n",
       "83410   2 rs2576709  0   55476591 A  G \n",
       "91565   2 rs7148     0   85133216 A  G \n",
       "121277  2 rs33946522 0  219527712 T  C \n",
       "199567  4 rs3926327  0   74284686 T  C \n",
       "303866  6 rs780556   0   49802697 T  C \n",
       "394718  8 rs2843740  0   37985897 A  G \n",
       "520400 11 rs2070232  0   63970625 A  G \n",
       "520881 11 rs1786171  0   65769809 G  C \n",
       "555494 12 rs3747560  0   42719890 A  G \n",
       "649745 15 VG15S12103 0   75012987 T  G \n",
       "671976 16 rs12315    0   56700722 T  G \n",
       "691966 17 rs2074101  0   30228656 A  G \n",
       "705874 17 rs7226091  0   79637367 G  C \n",
       "730278 19 rs1443     0    3579000 T  C \n",
       "731724 19 rs12563    0    7929690 T  C "
      ]
     },
     "metadata": {},
     "output_type": "display_data"
    }
   ],
   "source": [
    "pos[duplicated(bim),]"
   ]
  },
  {
   "cell_type": "code",
   "execution_count": 4,
   "metadata": {
    "collapsed": true
   },
   "outputs": [],
   "source": [
    "write.table(dup$V2, 'repeat.snp.psa.txt', col.names = FALSE,row.names = FALSE,quote = FALSE)"
   ]
  },
  {
   "cell_type": "code",
   "execution_count": 1,
   "metadata": {},
   "outputs": [
    {
     "name": "stdout",
     "output_type": "stream",
     "text": [
      "../impute-mm3-psa/data/plink/dataname_1kg_p1v3_10.bed\r\n",
      "../impute-mm3-psa/data/plink/dataname_1kg_p1v3_13.bed\r\n",
      "../impute-mm3-psa/data/plink/dataname_1kg_p1v3_14.bed\r\n",
      "../impute-mm3-psa/data/plink/dataname_1kg_p1v3_18.bed\r\n",
      "../impute-mm3-psa/data/plink/dataname_1kg_p1v3_20.bed\r\n",
      "../impute-mm3-psa/data/plink/dataname_1kg_p1v3_21.bed\r\n",
      "../impute-mm3-psa/data/plink/dataname_1kg_p1v3_22.bed\r\n",
      "../impute-mm3-psa/data/plink/dataname_1kg_p1v3_3.bed\r\n",
      "../impute-mm3-psa/data/plink/dataname_1kg_p1v3_5.bed\r\n",
      "../impute-mm3-psa/data/plink/dataname_1kg_p1v3_7.bed\r\n",
      "../impute-mm3-psa/data/plink/dataname_1kg_p1v3_qc_10.bed\r\n",
      "../impute-mm3-psa/data/plink/dataname_1kg_p1v3_qc_13.bed\r\n",
      "../impute-mm3-psa/data/plink/dataname_1kg_p1v3_qc_14.bed\r\n",
      "../impute-mm3-psa/data/plink/dataname_1kg_p1v3_qc_18.bed\r\n",
      "../impute-mm3-psa/data/plink/dataname_1kg_p1v3_qc_20.bed\r\n",
      "../impute-mm3-psa/data/plink/dataname_1kg_p1v3_qc_21.bed\r\n",
      "../impute-mm3-psa/data/plink/dataname_1kg_p1v3_qc_22.bed\r\n",
      "../impute-mm3-psa/data/plink/dataname_1kg_p1v3_qc_3.bed\r\n",
      "../impute-mm3-psa/data/plink/dataname_1kg_p1v3_qc_5.bed\r\n",
      "../impute-mm3-psa/data/plink/dataname_1kg_p1v3_qc_7.bed\r\n"
     ]
    }
   ],
   "source": [
    "!ls ../impute-mm3-psa/data/plink/*.bed"
   ]
  },
  {
   "cell_type": "markdown",
   "metadata": {},
   "source": [
    "### chr 1,2,4,6,8,9,11,12,15,16,17,19"
   ]
  },
  {
   "cell_type": "markdown",
   "metadata": {},
   "source": [
    "# remove repeat SNP"
   ]
  },
  {
   "cell_type": "code",
   "execution_count": 1,
   "metadata": {
    "scrolled": true
   },
   "outputs": [
    {
     "name": "stdout",
     "output_type": "stream",
     "text": [
      "rs1921\r\n",
      "VG01S2022\r\n",
      "rs3817870\r\n",
      "rs1051741\r\n",
      "rs2576709\r\n",
      "rs7148\r\n",
      "rs33946522\r\n",
      "rs3926327\r\n",
      "rs780556\r\n",
      "rs2843740\r\n"
     ]
    }
   ],
   "source": [
    "!head -n 10 repeat.snp.psa.txt"
   ]
  },
  {
   "cell_type": "code",
   "execution_count": 2,
   "metadata": {
    "scrolled": false
   },
   "outputs": [
    {
     "name": "stdout",
     "output_type": "stream",
     "text": [
      "PLINK v1.90b3.38 64-bit (7 Jun 2016)       https://www.cog-genomics.org/plink2\n",
      "(C) 2005-2016 Shaun Purcell, Christopher Chang   GNU General Public License v3\n",
      "Logging to ../temp/psa-norepeat.log.\n",
      "Options in effect:\n",
      "  --bfile ../temp/PSA.autosome\n",
      "  --exclude repeat.snp.psa.txt\n",
      "  --make-bed\n",
      "  --out ../temp/psa-norepeat\n",
      "\n",
      "128940 MB RAM detected; reserving 64470 MB for main workspace.\n",
      "Allocated 27198 MB successfully, after larger attempt(s) failed.\n",
      "790941 variants loaded from .bim file.\n",
      "2847 people (1358 males, 1489 females) loaded from .fam.\n",
      "2847 phenotype values loaded from .fam.\n",
      "--exclude: 790922 variants remaining.\n",
      "Using 1 thread (no multithreaded calculations invoked).\n",
      "Before main variant filters, 2847 founders and 0 nonfounders present.\n",
      "Calculating allele frequencies... 0%\b\b1%\b\b2%\b\b3%\b\b4%\b\b5%\b\b6%\b\b7%\b\b8%\b\b9%\b\b10%\b\b\b11%\b\b\b12%\b\b\b13%\b\b\b14%\b\b\b15%\b\b\b16%\b\b\b17%\b\b\b18%\b\b\b19%\b\b\b20%\b\b\b21%\b\b\b22%\b\b\b23%\b\b\b24%\b\b\b25%\b\b\b26%\b\b\b27%\b\b\b28%\b\b\b29%\b\b\b30%\b\b\b31%\b\b\b32%\b\b\b33%\b\b\b34%\b\b\b35%\b\b\b36%\b\b\b37%\b\b\b38%\b\b\b39%\b\b\b40%\b\b\b41%\b\b\b42%\b\b\b43%\b\b\b44%\b\b\b45%\b\b\b46%\b\b\b47%\b\b\b48%\b\b\b49%\b\b\b50%\b\b\b51%\b\b\b52%\b\b\b53%\b\b\b54%\b\b\b55%\b\b\b56%\b\b\b57%\b\b\b58%\b\b\b59%\b\b\b60%\b\b\b61%\b\b\b62%\b\b\b63%\b\b\b64%\b\b\b65%\b\b\b66%\b\b\b67%\b\b\b68%\b\b\b69%\b\b\b70%\b\b\b71%\b\b\b72%\b\b\b73%\b\b\b74%\b\b\b75%\b\b\b76%\b\b\b77%\b\b\b78%\b\b\b79%\b\b\b80%\b\b\b81%\b\b\b82%\b\b\b83%\b\b\b84%\b\b\b85%\b\b\b86%\b\b\b87%\b\b\b88%\b\b\b89%\b\b\b90%\b\b\b91%\b\b\b92%\b\b\b93%\b\b\b94%\b\b\b95%\b\b\b96%\b\b\b97%\b\b\b98%\b\b\b99%\b\b\b\b done.\n",
      "Total genotyping rate is 0.998588.\n",
      "790922 variants and 2847 people pass filters and QC.\n",
      "Among remaining phenotypes, 1430 are cases and 1417 are controls.\n",
      "--make-bed to ../temp/psa-norepeat.bed + ../temp/psa-norepeat.bim +\n",
      "../temp/psa-norepeat.fam ... 0%\b\b1%\b\b2%\b\b3%\b\b4%\b\b5%\b\b6%\b\b7%\b\b8%\b\b9%\b\b10%\b\b\b11%\b\b\b12%\b\b\b13%\b\b\b14%\b\b\b15%\b\b\b16%\b\b\b17%\b\b\b18%\b\b\b19%\b\b\b20%\b\b\b21%\b\b\b22%\b\b\b23%\b\b\b24%\b\b\b25%\b\b\b26%\b\b\b27%\b\b\b28%\b\b\b29%\b\b\b30%\b\b\b31%\b\b\b32%\b\b\b33%\b\b\b34%\b\b\b35%\b\b\b36%\b\b\b37%\b\b\b38%\b\b\b39%\b\b\b40%\b\b\b41%\b\b\b42%\b\b\b43%\b\b\b44%\b\b\b45%\b\b\b46%\b\b\b47%\b\b\b48%\b\b\b49%\b\b\b50%\b\b\b51%\b\b\b52%\b\b\b53%\b\b\b54%\b\b\b55%\b\b\b56%\b\b\b57%\b\b\b58%\b\b\b59%\b\b\b60%\b\b\b61%\b\b\b62%\b\b\b63%\b\b\b64%\b\b\b65%\b\b\b66%\b\b\b67%\b\b\b68%\b\b\b69%\b\b\b70%\b\b\b71%\b\b\b72%\b\b\b73%\b\b\b74%\b\b\b75%\b\b\b76%\b\b\b77%\b\b\b78%\b\b\b79%\b\b\b80%\b\b\b81%\b\b\b82%\b\b\b83%\b\b\b84%\b\b\b85%\b\b\b86%\b\b\b87%\b\b\b88%\b\b\b89%\b\b\b90%\b\b\b91%\b\b\b92%\b\b\b93%\b\b\b94%\b\b\b95%\b\b\b96%\b\b\b97%\b\b\b98%\b\b\b99%\b\b\bdone.\n"
     ]
    }
   ],
   "source": [
    "!plink --bfile ../temp/PSA.autosome --exclude repeat.snp.psa.txt --make-bed --out ../temp/psa-norepeat"
   ]
  },
  {
   "cell_type": "code",
   "execution_count": 3,
   "metadata": {},
   "outputs": [
    {
     "name": "stdout",
     "output_type": "stream",
     "text": [
      "17\tGA032273\t0\t30228656\tA\tG\r\n",
      "17\trs2074101\t0\t30228656\tA\tG\r\n"
     ]
    }
   ],
   "source": [
    "!grep '30228656' ../temp/PSA.autosome.bim"
   ]
  },
  {
   "cell_type": "code",
   "execution_count": 4,
   "metadata": {},
   "outputs": [
    {
     "name": "stdout",
     "output_type": "stream",
     "text": [
      "17\tGA032273\t0\t30228656\tA\tG\r\n"
     ]
    }
   ],
   "source": [
    "!grep -w '30228656' ../temp/psa-norepeat.bim"
   ]
  },
  {
   "cell_type": "code",
   "execution_count": 4,
   "metadata": {},
   "outputs": [
    {
     "name": "stdout",
     "output_type": "stream",
     "text": [
      "/vlsci/SG0003/wei_lu/imputation/impute-mm3-slurm-chr22\n",
      "/vlsci/SG0003/wei_lu/imputation\n"
     ]
    }
   ],
   "source": [
    "# %load ../Tools/impute-mm3/init.sh\n",
    "!mkdir data job_reports\n",
    "!mkdir data/haplotypes data/imputed data/plink data/target\n",
    "!mkdir job_reports/shapeit"
   ]
  },
  {
   "cell_type": "markdown",
   "metadata": {},
   "source": [
    "# step 0 enviroment setting"
   ]
  },
  {
   "cell_type": "code",
   "execution_count": 8,
   "metadata": {},
   "outputs": [
    {
     "name": "stdout",
     "output_type": "stream",
     "text": [
      "Overwriting parameters.sh\n"
     ]
    }
   ],
   "source": [
    "%%writefile parameters.sh\n",
    "#!/usr/bin/env bash\n",
    "\n",
    "# Exe\n",
    "######################\n",
    "readonly shapeit2=\"shapeit\"\n",
    "readonly mm3omp=\"Minimac3-omp\"\n",
    "readonly plink2=\"plink\"\n",
    "readonly genetdistR=\"${wd}genetdist.R\"\n",
    "\n",
    "# Initial QC thresholds\n",
    "######################\n",
    "MAF=\"0.005\"\n",
    "HWE=\"0.000001\"\n",
    "geno=\"0.05\"\n",
    "mind=\"0.05\"\n",
    "\n",
    "# Filtering thresholds\n",
    "######################\n",
    "filterMAF=\"0.000001\"\n",
    "filterHWE=\"0.000001\"\n",
    "filtergeno=\"0.02\"\n",
    "filtermind=\"0.1\"\n",
    "filterInfo=\"0.3\"\n",
    "\n",
    "#Change according to data set\n",
    "#############################\n",
    "rawdata=\"${wd}data/target/dataname\" \n",
    "impdata=\"dataname_1kg_p1v3\"\n",
    "\n",
    "#Input/Output Data\n",
    "##################\n",
    "inputdata=\"${wd}../temp/psa-norepeat\"\n",
    "targetdata=\"${wd}data/target/DAT${chr}\"\n",
    "targetdatadir=\"${wd}data/target/\"\n",
    "hapdatadir=\"${wd}data/haplotypes/\"\n",
    "hapout=\"${hapdatadir}DAT${chr}\"\n",
    "targetvcf=\"${hapdatadir}DAT${chr}.vcf\"\n",
    "impdatadir=\"${wd}data/imputed/\"\n",
    "plinkimpdir=\"${wd}data/plink/\"\n",
    "imputedvcf=\"${wd}data/imputed/data_1kg_p1v3_${chr}\"\n",
    "imputedplink=\"${wd}data/plink/${impdata}_${chr}\"\n",
    "imputedplinkqc=\"${wd}data/plink/${impdata}_qc_${chr}\"\n",
    "chrdata=\"DAT${chr}\"\n",
    "\n",
    "#Reference Data for Phasing\n",
    "###########################\n",
    "refdatadir=\"/vlsci/SG0003/shared/imputation/reference/1000GP_Phase3/\"\n",
    "\n",
    "reflegend=\"${refdatadir}1000GP_Phase3_chr${chr}.legend.gz\"\n",
    "refhaps=\"${refdatadir}1000GP_Phase3_chr${chr}.hap.gz\"\n",
    "refsample=\"${refdatadir}ALL_1000G_phase1integrated_v3.sample\"\n",
    "refgmap=\"${refdatadir}genetic_map_chr${chr}_combined_b37.txt\"\n",
    "refsample=\"${refdatadir}1000GP_Phase3.sample\"\n",
    "#reflegend=\"${refdatadir}ALL_1000G_phase1integrated_v3_chr${chr}.legend.gz\"\n",
    "#refhaps=\"${refdatadir}ALL_1000G_phase1integrated_v3_chr${chr}.hap.gz\"\n",
    "#refsample=\"${refdatadir}ALL_1000G_phase1integrated_v3.sample\"\n",
    "#refgmap=\"${refdatadir}genetic_map_chr${chr}_combined_b37.txt\"\n",
    "\n",
    "#Reference Data for Imputation - m3vcf Phase1\n",
    "#############################################\n",
    "refdatadir=\"/vlsci/SG0003/shared/imputation/reference/\"\n",
    "refvcf=\"${refdatadir}${chr}.1000g.Phase3.v5.With.Parameter.Estimates.m3vcf.gz\"\n",
    "\n",
    "# shapeit2 (use reference set if less than 50 individuals)\n",
    "#########################################################\n",
    "minindiv=50\n",
    "\n",
    "# minimac3 interval (default is 5Mb) (currently not used)\n",
    "#########################################################\n",
    "interval=5000000\n",
    "\n",
    "# Additional directories required\n",
    "####################################\n",
    "\n",
    "mkdir -p ${targetdatadir}\n",
    "mkdir -p ${hapdatadir}\n",
    "mkdir -p $impdatadir\n",
    "mkdir -p $plinkimpdir\n"
   ]
  },
  {
   "cell_type": "markdown",
   "metadata": {},
   "source": [
    "# calculate genetic distance\n",
    "map.sh (Extract by chr and fill in genetic distance from map file"
   ]
  },
  {
   "cell_type": "code",
   "execution_count": 4,
   "metadata": {
    "scrolled": true
   },
   "outputs": [
    {
     "name": "stdout",
     "output_type": "stream",
     "text": [
      "Overwriting map.sh\n"
     ]
    }
   ],
   "source": [
    "%%writefile map.sh\n",
    "#!/bin/bash\n",
    "#SBATCH --time=00:30:00\n",
    "#SBATCH --mem-per-cpu=8000\n",
    "#SBATCH --array=1,2,4,6,8,9,11,12,15,16,17,19%6\n",
    "#SBATCH -p sysgen\n",
    "\n",
    "# This script will take a binary plink file and:\n",
    "\n",
    "# 1. extract individual chromosomes\n",
    "# 2. update genetic distance from map file\n",
    "# (For the SNPs that don't have a genetic position, SHAPEIT internally\n",
    "# determines its genetic position using linear interpolation)\n",
    "\n",
    "# set -e\n",
    "if [ -n \"${1}\" ]; then\n",
    "    SLURM_ARRAY_TASK_ID=${1}\n",
    "fi\n",
    "\n",
    "chr=${SLURM_ARRAY_TASK_ID}\n",
    "\n",
    "wd=`pwd`\"/\"\n",
    "\n",
    "source parameters.sh\n",
    "\n",
    "${plink2} --bfile ${inputdata} --chr $chr --make-bed --out ${targetdata} \n",
    "R --no-save --args ${targetdata}.bim ${refgmap} < ${genetdistR}\n",
    "${plink2} --noweb --bfile ${targetdata} --make-bed --out ${targetdata} \n"
   ]
  },
  {
   "cell_type": "code",
   "execution_count": 7,
   "metadata": {},
   "outputs": [
    {
     "name": "stdout",
     "output_type": "stream",
     "text": [
      "Submitted batch job 2080164\r\n"
     ]
    }
   ],
   "source": [
    "!sbatch map.sh"
   ]
  },
  {
   "cell_type": "code",
   "execution_count": 15,
   "metadata": {},
   "outputs": [
    {
     "name": "stdout",
     "output_type": "stream",
     "text": [
      "       JobID    JobName     ReqMem     MaxRSS    Elapsed      State   TotalCPU \n",
      "------------ ---------- ---------- ---------- ---------- ---------- ---------- \n",
      "2080164_19       map.sh     8000Mc              00:00:03  COMPLETED  00:00.753 \n",
      "2080164_19.+      batch     8000Mc          0   00:00:03  COMPLETED  00:00.753 \n",
      "2080164_19.+     extern     8000Mc          0   00:00:06  COMPLETED   00:00:00 \n",
      "2080164_1        map.sh     8000Mc              00:00:06  COMPLETED  00:02.596 \n",
      "2080164_1.b+      batch     8000Mc          0   00:00:06  COMPLETED  00:02.596 \n",
      "2080164_1.e+     extern     8000Mc          0   00:00:09  COMPLETED   00:00:00 \n",
      "2080164_2        map.sh     8000Mc              00:00:05  COMPLETED  00:02.997 \n",
      "2080164_2.b+      batch     8000Mc          0   00:00:05  COMPLETED  00:02.997 \n",
      "2080164_2.e+     extern     8000Mc          0   00:00:08  COMPLETED   00:00:00 \n",
      "2080164_4        map.sh     8000Mc              00:00:04  COMPLETED  00:01.998 \n",
      "2080164_4.b+      batch     8000Mc          0   00:00:04  COMPLETED  00:01.998 \n",
      "2080164_4.e+     extern     8000Mc          0   00:00:07  COMPLETED   00:00:00 \n",
      "2080164_6        map.sh     8000Mc              00:00:04  COMPLETED  00:02.379 \n",
      "2080164_6.b+      batch     8000Mc          0   00:00:04  COMPLETED  00:02.379 \n",
      "2080164_6.e+     extern     8000Mc          0   00:00:08  COMPLETED   00:00:00 \n",
      "2080164_8        map.sh     8000Mc              00:00:04  COMPLETED  00:01.831 \n",
      "2080164_8.b+      batch     8000Mc          0   00:00:04  COMPLETED  00:01.831 \n",
      "2080164_8.e+     extern     8000Mc          0   00:00:07  COMPLETED   00:00:00 \n",
      "2080164_9        map.sh     8000Mc              00:00:03  COMPLETED  00:01.512 \n",
      "2080164_9.b+      batch     8000Mc          0   00:00:03  COMPLETED  00:01.512 \n",
      "2080164_9.e+     extern     8000Mc          0   00:00:07  COMPLETED   00:00:00 \n",
      "2080164_11       map.sh     8000Mc              00:00:04  COMPLETED  00:01.711 \n",
      "2080164_11.+      batch     8000Mc          0   00:00:04  COMPLETED  00:01.711 \n",
      "2080164_11.+     extern     8000Mc          0   00:00:07  COMPLETED   00:00:00 \n",
      "2080164_12       map.sh     8000Mc              00:00:04  COMPLETED  00:01.688 \n",
      "2080164_12.+      batch     8000Mc          0   00:00:04  COMPLETED  00:01.688 \n",
      "2080164_12.+     extern     8000Mc          0   00:00:07  COMPLETED   00:00:00 \n",
      "2080164_15       map.sh     8000Mc              00:00:03  COMPLETED  00:01.042 \n",
      "2080164_15.+      batch     8000Mc          0   00:00:03  COMPLETED  00:01.042 \n",
      "2080164_15.+     extern     8000Mc          0   00:00:06  COMPLETED   00:00:00 \n",
      "2080164_16       map.sh     8000Mc              00:00:02  COMPLETED  00:01.057 \n",
      "2080164_16.+      batch     8000Mc          0   00:00:02  COMPLETED  00:01.057 \n",
      "2080164_16.+     extern     8000Mc          0   00:00:05  COMPLETED   00:00:00 \n",
      "2080164_17       map.sh     8000Mc              00:00:02  COMPLETED  00:00.971 \n",
      "2080164_17.+      batch     8000Mc          0   00:00:02  COMPLETED  00:00.971 \n",
      "2080164_17.+     extern     8000Mc          0   00:00:05  COMPLETED   00:00:00 \n"
     ]
    }
   ],
   "source": [
    "!sacct -j 2080164 --format=JobID,JobName,ReqMem,MaxRSS,Elapsed,State,TotalCPU"
   ]
  },
  {
   "cell_type": "markdown",
   "metadata": {},
   "source": [
    "# step 2 shapeit\n",
    "hap.sh (Performing phasing using shapeit2, using reference set if < 50 individuals)"
   ]
  },
  {
   "cell_type": "code",
   "execution_count": 6,
   "metadata": {},
   "outputs": [
    {
     "name": "stdout",
     "output_type": "stream",
     "text": [
      "Overwriting hap.sh\n"
     ]
    }
   ],
   "source": [
    "%%writefile hap.sh\n",
    "#!/bin/bash\n",
    "#SBATCH --time=03:00:00\n",
    "#SBATCH --mem-per-cpu=1000\n",
    "#SBATCH --job-name=job_reports/phase\n",
    "#SBATCH --ntasks=1\n",
    "#SBATCH --cpus-per-task=16\n",
    "#SBATCH --array=1,2,4,6,8,9,11,12,15,16,17,19\n",
    "#SBATCH -p sysgen\n",
    "#SBATCH --mail-type=END  \n",
    "#SBATCH --mail-user=l5@student.unimelb.edu.au\n",
    "\n",
    "# This script will take a reference-aligned binary plink file and:\n",
    "# 1. For each chromosome perform shapeit phasing\n",
    "# 2. Remove snps that don't align between reference and main panel\n",
    "# 3. Convert to vcf format\n",
    "\n",
    "# set -e\n",
    "if [ -n \"${1}\" ]; then\n",
    "    SLURM_ARRAY_TASK_ID=${1}\n",
    "fi\n",
    "\n",
    "chr=${SLURM_ARRAY_TASK_ID}\n",
    "wd=$(pwd)\"/\"\n",
    "echo $wd\n",
    "source $wd/parameters.sh\n",
    "threads=16\n",
    "\n",
    "flags=\"--thread $threads --noped\"\n",
    "\n",
    "#if [ \"${chr}\" -eq \"23\" ]; then\n",
    "#    flags=\"$flags --chrX\"\n",
    "#fi\n",
    "\n",
    "#if [[ -f ${targetdata}\"-align.bim\" ]];\n",
    "#then\n",
    "#    targetdata=\"${targetdata}-align\"\n",
    "#    echo \"Found aligned set\"\n",
    "#fi\n",
    "\n",
    "#indv=$(wc -l ${targetdata}.fam | cut -f 1 -d ' ')\n",
    "#echo \"There are $indv individuals\"\n",
    "\n",
    "echo $SLURM_ARRAY_TASK_ID\n",
    "\n",
    "bed=\"../temp/psa-norepeat\"\n",
    "plink --bfile $bed --chr $chr --make-bed --out 'data/target/DAT'${chr}\n",
    "targetdata=\"data/target/DAT${chr}\"\n",
    "\n",
    "## If less than 100 indivduals, use reference panel to phase\n",
    "minindiv=100\n",
    "if [ $indv -lt $minindiv ]; then\n",
    "    flags=\"$flags --input-ref ${refhaps} ${reflegend} ${refsample}\"\n",
    "    echo \"Using reference set to phase data\"\n",
    "fi\n",
    "\n",
    "## Performing phasing \n",
    "${shapeit2} --input-bed ${targetdata}.bed ${targetdata}.bim ${targetdata}.fam \\\n",
    "            --input-map ${refgmap} \\\n",
    "            --output-max ${hapout}.haps ${hapout}.sample ${flags} \\\n",
    "            --output-log ${wd}job_reports/shapeit.$chr\n",
    "\n",
    "## Convert data to vcf for minimac3\n",
    "${shapeit2} -convert \\\n",
    "            --input-haps ${hapout} \\\n",
    "            --output-vcf ${targetvcf} \\\n",
    "            --output-log ${wd}job_reports/shapeit.$chr \\\n",
    "            --thread $threads\n"
   ]
  },
  {
   "cell_type": "code",
   "execution_count": 7,
   "metadata": {},
   "outputs": [
    {
     "name": "stdout",
     "output_type": "stream",
     "text": [
      "Submitted batch job 2080285\r\n"
     ]
    }
   ],
   "source": [
    "!sbatch hap.sh"
   ]
  },
  {
   "cell_type": "code",
   "execution_count": 20,
   "metadata": {
    "collapsed": true
   },
   "outputs": [
    {
     "name": "stdout",
     "output_type": "stream",
     "text": [
      "\r\n",
      "\u001b[33mS\u001b[0megmented \u001b[33mHAP\u001b[0mlotype \u001b[33mE\u001b[0mstimation & \u001b[33mI\u001b[0mmputation \u001b[33mT\u001b[0mool\r\n",
      "  * Authors : Olivier Delaneau, Jared O'Connell, Jean-FranÃ§ois Zagury, Jonathan Marchini\r\n",
      "  * Contact : send an email to the OXSTATGEN mail list https://www.jiscmail.ac.uk/cgi-bin/webadmin?A0=OXSTATGEN\r\n",
      "  * Webpage : https://mathgen.stats.ox.ac.uk/shapeit\r\n",
      "  * Version : v2.r837\r\n",
      "  * Date    : 08/02/2017 22:56:08\r\n",
      "  * LOGfile : [job_reports/shapeit.chr17.log]\r\n",
      "\r\n",
      "MODE \u001b[33m-phase\u001b[0m : PHASING GENOTYPE DATA\r\n",
      "  * Autosome (chr1 ... chr22)\r\n",
      "  * Window-based model (SHAPEIT v2)\r\n",
      "  * MCMC iteration\r\n",
      "\r\n",
      "Parameters :\r\n",
      "  * Seed : 1486554968\r\n",
      "  * Parallelisation: 2 threads\r\n",
      "  * Ref allele is NOT aligned on the reference genome\r\n",
      "  * MCMC: 35 iterations [7 B + 1 runs of 8 P + 20 M]\r\n",
      "  * Model: 100 states per window [100 H + 0 PM + 0 R + 0 COV ] / Windows of ~2.0 Mb / Ne = 15000\r\n",
      "  * Pedigree information not taken into account\r\n",
      "\r\n",
      "Reading site list in [data/target/DAT17.bim]\r\n",
      "\r\n",
      "\u001b[33mERROR:\u001b[0m Duplicate site pos=30228656 ref=A alt=G\r\n"
     ]
    }
   ],
   "source": [
    "!shapeit --input-bed data/target/DAT17.bed data/target/DAT17.bim data/target/DAT17.fam \\\n",
    "            --input-map /vlsci/SG0003/shared/imputation/reference/1000GP_Phase3/genetic_map_chr17_combined_b37.txt \\\n",
    "            --output-max data/haplotypes/17.haps data/haplotypes/17.sample --thread 2 --noped \\\n",
    "            --output-log job_reports/shapeit.chr17"
   ]
  },
  {
   "cell_type": "code",
   "execution_count": 10,
   "metadata": {},
   "outputs": [
    {
     "name": "stdout",
     "output_type": "stream",
     "text": [
      "       JobID    JobName     ReqMem     MaxRSS    Elapsed      State   TotalCPU \n",
      "------------ ---------- ---------- ---------- ---------- ---------- ---------- \n",
      "2080285_19   job_repor+     1000Mc              00:30:41  COMPLETED   07:30:31 \n",
      "2080285_19.+      batch     1000Mc   1360548K   00:30:41  COMPLETED   07:30:31 \n",
      "2080285_19.+     extern     1000Mc          0   00:30:43  COMPLETED   00:00:00 \n",
      "2080285_1    job_repor+     1000Mc              02:18:10  COMPLETED 1-09:47:04 \n",
      "2080285_1.b+      batch     1000Mc   5040720K   02:18:10  COMPLETED 1-09:47:04 \n",
      "2080285_1.e+     extern     1000Mc          0   02:18:11  COMPLETED   00:00:00 \n",
      "2080285_2    job_repor+     1000Mc              02:12:48  COMPLETED 1-08:23:28 \n",
      "2080285_2.b+      batch     1000Mc   4829880K   02:12:48  COMPLETED 1-08:23:28 \n",
      "2080285_2.e+     extern     1000Mc          0   02:12:49  COMPLETED   00:00:00 \n",
      "2080285_4    job_repor+     1000Mc              01:33:04  COMPLETED   22:46:00 \n",
      "2080285_4.b+      batch     1000Mc   3670540K   01:33:04  COMPLETED   22:46:00 \n",
      "2080285_4.e+     extern     1000Mc          0   01:33:06  COMPLETED   00:00:00 \n",
      "2080285_6    job_repor+     1000Mc              02:01:49  COMPLETED 1-05:21:01 \n",
      "2080285_6.b+      batch     1000Mc   4642344K   02:01:49  COMPLETED 1-05:21:01 \n",
      "2080285_6.e+     extern     1000Mc          0   02:01:51  COMPLETED   00:00:00 \n",
      "2080285_8    job_repor+     1000Mc              01:19:57  COMPLETED   19:32:34 \n",
      "2080285_8.b+      batch     1000Mc   3282712K   01:19:57  COMPLETED   19:32:34 \n",
      "2080285_8.e+     extern     1000Mc          0   01:20:00  COMPLETED   00:00:00 \n",
      "2080285_9    job_repor+     1000Mc              01:09:15  COMPLETED   16:58:33 \n",
      "2080285_9.b+      batch     1000Mc   2919748K   01:09:15  COMPLETED   16:58:33 \n",
      "2080285_9.e+     extern     1000Mc          0   01:09:18  COMPLETED   00:00:00 \n",
      "2080285_11   job_repor+     1000Mc              01:14:58  COMPLETED   18:18:22 \n",
      "2080285_11.+      batch     1000Mc   3150312K   01:14:58  COMPLETED   18:18:22 \n",
      "2080285_11.+     extern     1000Mc          0   01:14:59  COMPLETED   00:00:00 \n",
      "2080285_12   job_repor+     1000Mc              01:12:11  COMPLETED   17:39:07 \n",
      "2080285_12.+      batch     1000Mc   3028628K   01:12:11  COMPLETED   17:39:07 \n",
      "2080285_12.+     extern     1000Mc          0   01:12:12  COMPLETED   00:00:00 \n",
      "2080285_15   job_repor+     1000Mc              00:41:35  COMPLETED   10:13:29 \n",
      "2080285_15.+      batch     1000Mc   1829696K   00:41:35  COMPLETED   10:13:29 \n",
      "2080285_15.+     extern     1000Mc          0   00:41:37  COMPLETED   00:00:00 \n",
      "2080285_16   job_repor+     1000Mc              00:44:31  COMPLETED   10:58:30 \n",
      "2080285_16.+      batch     1000Mc   1943012K   00:44:31  COMPLETED   10:58:30 \n",
      "2080285_16.+     extern     1000Mc          0   00:44:32  COMPLETED   00:00:00 \n",
      "2080285_17   job_repor+     1000Mc              00:38:46  COMPLETED   09:34:58 \n",
      "2080285_17.+      batch     1000Mc   1734172K   00:38:46  COMPLETED   09:34:58 \n",
      "2080285_17.+     extern     1000Mc          0   00:38:48  COMPLETED   00:00:00 \n"
     ]
    }
   ],
   "source": [
    "!sacct -j 2080285 --format=JobID,JobName,ReqMem,MaxRSS,Elapsed,State,TotalCPU"
   ]
  },
  {
   "cell_type": "markdown",
   "metadata": {},
   "source": [
    "# step 3 \n",
    "impute.sh (Perform imputation using minimac3, convert vcf output to plink2 and do post imputation qc)"
   ]
  },
  {
   "cell_type": "code",
   "execution_count": 8,
   "metadata": {},
   "outputs": [
    {
     "name": "stdout",
     "output_type": "stream",
     "text": [
      "Overwriting impute.sh\n"
     ]
    }
   ],
   "source": [
    "%%writefile impute.sh\n",
    "#!/bin/bash\n",
    "#SBATCH --time=8:00:00\n",
    "#SBATCH --mem-per-cpu=12000\n",
    "#SBATCH --job-name=imputemm3\n",
    "#SBATCH --ntasks=1\n",
    "#SBATCH --cpus-per-task=16\n",
    "#SBATCH --array=1,2,4,6,8,9,11,12,15,16,17,19\n",
    "#SBATCH -p sysgen\n",
    "#SBATCH --mail-type=END  \n",
    "#SBATCH --mail-user=l5@student.unimelb.edu.au\n",
    "\n",
    "\n",
    "module load zlib/1.2.8-GCC-4.9.3\n",
    "module load glibc/2.15-GCC-4.9.3\n",
    "\n",
    "if [ -n \"${1}\" ]; then\n",
    "    SLURM_ARRAY_TASK_ID=${1}\n",
    "fi\n",
    "\n",
    "chr=${SLURM_ARRAY_TASK_ID}\n",
    "\n",
    "wd=`pwd`\"/\"\n",
    "source parameters.sh\n",
    "threads=16\n",
    "\n",
    "#echo \"Imputing on $threads threads\"\n",
    "\n",
    "#impute\n",
    "${mm3omp} --refHaps $refvcf \\\n",
    "          --haps $targetvcf \\\n",
    "          --prefix $imputedvcf \\\n",
    "          --cpus $threads\n",
    "\n",
    "#convert to plink format\n",
    "plink --vcf ${imputedvcf}.dose.vcf.gz --double-id --make-bed --out $imputedplink --threads $threads\n",
    "#quality control \n",
    "plink --bfile ${imputedplink} --hwe ${filterHWE} --maf ${filterMAF} --make-bed --out ${imputedplinkqc} \\\n",
    "--threads $threads\n"
   ]
  },
  {
   "cell_type": "code",
   "execution_count": null,
   "metadata": {
    "collapsed": true
   },
   "outputs": [],
   "source": [
    "!sbatch impute.sh"
   ]
  },
  {
   "cell_type": "code",
   "execution_count": 14,
   "metadata": {},
   "outputs": [
    {
     "name": "stdout",
     "output_type": "stream",
     "text": [
      "       JobID    JobName     ReqMem     AveRSS    Elapsed      State   TotalCPU \n",
      "------------ ---------- ---------- ---------- ---------- ---------- ---------- \n",
      "2080339_19    imputemm3    12000Mc              01:59:46  COMPLETED   05:36:58 \n",
      "2080339_19.+      batch    12000Mc      3240K   01:59:46  COMPLETED   05:36:58 \n",
      "2080339_19.+     extern    12000Mc          0   01:59:47  COMPLETED   00:00:00 \n",
      "2080339_1     imputemm3    12000Mc              06:45:22  COMPLETED   18:42:14 \n",
      "2080339_1.b+      batch    12000Mc      3236K   06:45:22  COMPLETED   18:42:14 \n",
      "2080339_1.e+     extern    12000Mc          0   06:45:25  COMPLETED   00:00:00 \n",
      "2080339_2     imputemm3    12000Mc              07:21:24  COMPLETED   20:22:43 \n",
      "2080339_2.b+      batch    12000Mc      3248K   07:21:24  COMPLETED   20:22:43 \n",
      "2080339_2.e+     extern    12000Mc          0   07:21:25  COMPLETED   00:00:00 \n",
      "2080339_4     imputemm3    12000Mc              05:54:20  COMPLETED   16:21:12 \n",
      "2080339_4.b+      batch    12000Mc      3244K   05:54:20  COMPLETED   16:21:12 \n",
      "2080339_4.e+     extern    12000Mc          0   05:54:21  COMPLETED   00:00:00 \n",
      "2080339_6     imputemm3    12000Mc              05:19:30  COMPLETED   14:43:41 \n",
      "2080339_6.b+      batch    12000Mc      3248K   05:19:30  COMPLETED   14:43:41 \n",
      "2080339_6.e+     extern    12000Mc          0   05:19:31  COMPLETED   00:00:00 \n",
      "2080339_8     imputemm3    12000Mc              04:44:15  COMPLETED   13:09:57 \n",
      "2080339_8.b+      batch    12000Mc      3248K   04:44:15  COMPLETED   13:09:57 \n",
      "2080339_8.e+     extern    12000Mc          0   04:44:18  COMPLETED   00:00:00 \n",
      "2080339_9     imputemm3    12000Mc              03:44:59  COMPLETED   10:27:30 \n",
      "2080339_9.b+      batch    12000Mc      3240K   03:44:59  COMPLETED   10:27:30 \n",
      "2080339_9.e+     extern    12000Mc          0   03:45:00  COMPLETED   00:00:00 \n",
      "2080339_11    imputemm3    12000Mc              04:09:43  COMPLETED   11:33:09 \n",
      "2080339_11.+      batch    12000Mc      3248K   04:09:43  COMPLETED   11:33:09 \n",
      "2080339_11.+     extern    12000Mc          0   04:09:44  COMPLETED   00:00:00 \n",
      "2080339_12    imputemm3    12000Mc              04:05:54  COMPLETED   11:17:13 \n",
      "2080339_12.+      batch    12000Mc      3244K   04:05:54  COMPLETED   11:17:13 \n",
      "2080339_12.+     extern    12000Mc          0   04:05:55  COMPLETED   00:00:00 \n",
      "2080339_15    imputemm3    12000Mc              02:34:53  COMPLETED   07:12:46 \n",
      "2080339_15.+      batch    12000Mc      3244K   02:34:53  COMPLETED   07:12:46 \n",
      "2080339_15.+     extern    12000Mc          0   02:34:57  COMPLETED   00:00:00 \n",
      "2080339_16    imputemm3    12000Mc              02:53:14  COMPLETED   08:02:42 \n",
      "2080339_16.+      batch    12000Mc      3244K   02:53:14  COMPLETED   08:02:42 \n",
      "2080339_16.+     extern    12000Mc          0   02:53:16  COMPLETED   00:00:00 \n",
      "2080339_17    imputemm3    12000Mc              02:27:39  COMPLETED   06:54:56 \n",
      "2080339_17.+      batch    12000Mc      3240K   02:27:39  COMPLETED   06:54:56 \n",
      "2080339_17.+     extern    12000Mc          0   02:27:40  COMPLETED   00:00:00 \n"
     ]
    }
   ],
   "source": [
    "!sacct -j 2080339 --format=JobID,JobName,ReqMem,AveRSS,Elapsed,State,TotalCPU"
   ]
  },
  {
   "cell_type": "code",
   "execution_count": null,
   "metadata": {
    "collapsed": true
   },
   "outputs": [],
   "source": []
  },
  {
   "cell_type": "code",
   "execution_count": 1,
   "metadata": {},
   "outputs": [
    {
     "name": "stdout",
     "output_type": "stream",
     "text": [
      "652195 impute-mm3-slurm-chr22/data/plink/dataname_1kg_p1v3_22.bim\n",
      "285381 impute-mm3-slurm-chr22/data/plink/dataname_1kg_p1v3_qc_22.bim\n"
     ]
    }
   ],
   "source": [
    "!wc -l impute-mm3-slurm-chr22/data/plink/dataname_1kg_p1v3_22.bim\n",
    "!wc -l impute-mm3-slurm-chr22/data/plink/dataname_1kg_p1v3_qc_22.bim"
   ]
  },
  {
   "cell_type": "code",
   "execution_count": 2,
   "metadata": {},
   "outputs": [
    {
     "name": "stdout",
     "output_type": "stream",
     "text": [
      "652196 impute-mm3-slurm-chr22/data/imputed/data_1kg_p1v3_22.info\r\n"
     ]
    }
   ],
   "source": [
    "!wc -l impute-mm3-slurm-chr22/data/imputed/data_1kg_p1v3_22.info"
   ]
  },
  {
   "cell_type": "code",
   "execution_count": null,
   "metadata": {
    "collapsed": true
   },
   "outputs": [],
   "source": []
  },
  {
   "cell_type": "code",
   "execution_count": 24,
   "metadata": {},
   "outputs": [
    {
     "name": "stdout",
     "output_type": "stream",
     "text": [
      "13276 data/psa-chr22.bim\r\n"
     ]
    }
   ],
   "source": [
    "!wc -l data/psa-chr22.bim"
   ]
  },
  {
   "cell_type": "code",
   "execution_count": null,
   "metadata": {
    "collapsed": true
   },
   "outputs": [],
   "source": []
  }
 ],
 "metadata": {
  "anaconda-cloud": {},
  "kernelspec": {
   "display_name": "Python [default]",
   "language": "python",
   "name": "python2"
  },
  "language_info": {
   "codemirror_mode": {
    "name": "ipython",
    "version": 2
   },
   "file_extension": ".py",
   "mimetype": "text/x-python",
   "name": "python",
   "nbconvert_exporter": "python",
   "pygments_lexer": "ipython2",
   "version": "2.7.12"
  }
 },
 "nbformat": 4,
 "nbformat_minor": 2
}
